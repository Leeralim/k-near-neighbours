{
  "nbformat": 4,
  "nbformat_minor": 0,
  "metadata": {
    "colab": {
      "name": "k_near_heighbours_method.ipynb",
      "provenance": [],
      "collapsed_sections": []
    },
    "kernelspec": {
      "name": "python3",
      "display_name": "Python 3"
    },
    "language_info": {
      "name": "python"
    }
  },
  "cells": [
    {
      "cell_type": "code",
      "execution_count": 112,
      "metadata": {
        "id": "JXIJ2eWqEB-S"
      },
      "outputs": [],
      "source": [
        "import pandas as pd\n",
        "from sklearn.neighbors import KNeighborsClassifier\n",
        "import matplotlib.pyplot as plt"
      ]
    },
    {
      "cell_type": "markdown",
      "source": [
        "**Информация о наборе данных:**\n",
        "\n",
        "Этот набор данных связан с красными вариантами португальского вина \"Vinho Verde\".\n",
        "\n",
        "Классы упорядочены и не сбалансированы (например, нормальных вин намного больше, чем отличных или плохих). Алгоритмы обнаружения выбросов могут использоваться для обнаружения нескольких превосходных или плохих вин. Кроме того, мы не уверены, что все входные переменные релевантны. Поэтому было бы интересно протестировать методы выбора функций.\n",
        "\n",
        "В данном исследовании попробуем проанализировать качество вина **quality** (от 0 до 10, где 0 - ето совсем плохо, а 10 - превосходно) в зависимости от кислотности **pH** и его крепости **alcolol**\n",
        "\n",
        "Ссылка на датасет: https://archive.ics.uci.edu/ml/datasets/Wine+Quality"
      ],
      "metadata": {
        "id": "iWTaKXcgbcDG"
      }
    },
    {
      "cell_type": "code",
      "source": [
        "wine_data = pd.read_csv(\"winequality-red.csv\", delimiter=\";\")\n",
        "# options = [5, 7]\n",
        "# res_data = wine_data.loc[wine_data['quality'].isin(options)]\n",
        "wine_data"
      ],
      "metadata": {
        "colab": {
          "base_uri": "https://localhost:8080/",
          "height": 833
        },
        "id": "nxNXpcbVaLh7",
        "outputId": "3c7d4b20-d3a7-4b6a-ec9f-2614fb2df5cd"
      },
      "execution_count": 120,
      "outputs": [
        {
          "output_type": "execute_result",
          "data": {
            "text/plain": [
              "    fixed acidity  alcohol  quality\n",
              "0             7.4      9.4        5\n",
              "1             7.8      9.8        5\n",
              "2             7.8      9.8        5\n",
              "3            11.2      9.8        6\n",
              "4             7.4      9.4        5\n",
              "5             7.4      9.4        5\n",
              "6             7.9      9.4        5\n",
              "7             7.3     10.0        7\n",
              "8             7.8      9.5        7\n",
              "9             7.5     10.5        5\n",
              "10            6.7      9.2        5\n",
              "11            7.5     10.5        5\n",
              "12            5.6      9.9        5\n",
              "13            7.8      9.1        5\n",
              "14            8.9      9.2        5\n",
              "15            8.9      9.2        5\n",
              "16            8.5     10.5        7\n",
              "17            8.1      9.3        5\n",
              "18            7.4      9.0        4\n",
              "19            7.9      9.2        6\n",
              "20            8.9      9.4        6\n",
              "21            7.6      9.7        5\n",
              "22            7.9      9.5        5\n",
              "23            8.5      9.4        5\n",
              "24            6.9      9.7        6"
            ],
            "text/html": [
              "\n",
              "  <div id=\"df-9592906b-1199-4f21-a783-f683c4170a09\">\n",
              "    <div class=\"colab-df-container\">\n",
              "      <div>\n",
              "<style scoped>\n",
              "    .dataframe tbody tr th:only-of-type {\n",
              "        vertical-align: middle;\n",
              "    }\n",
              "\n",
              "    .dataframe tbody tr th {\n",
              "        vertical-align: top;\n",
              "    }\n",
              "\n",
              "    .dataframe thead th {\n",
              "        text-align: right;\n",
              "    }\n",
              "</style>\n",
              "<table border=\"1\" class=\"dataframe\">\n",
              "  <thead>\n",
              "    <tr style=\"text-align: right;\">\n",
              "      <th></th>\n",
              "      <th>fixed acidity</th>\n",
              "      <th>alcohol</th>\n",
              "      <th>quality</th>\n",
              "    </tr>\n",
              "  </thead>\n",
              "  <tbody>\n",
              "    <tr>\n",
              "      <th>0</th>\n",
              "      <td>7.4</td>\n",
              "      <td>9.4</td>\n",
              "      <td>5</td>\n",
              "    </tr>\n",
              "    <tr>\n",
              "      <th>1</th>\n",
              "      <td>7.8</td>\n",
              "      <td>9.8</td>\n",
              "      <td>5</td>\n",
              "    </tr>\n",
              "    <tr>\n",
              "      <th>2</th>\n",
              "      <td>7.8</td>\n",
              "      <td>9.8</td>\n",
              "      <td>5</td>\n",
              "    </tr>\n",
              "    <tr>\n",
              "      <th>3</th>\n",
              "      <td>11.2</td>\n",
              "      <td>9.8</td>\n",
              "      <td>6</td>\n",
              "    </tr>\n",
              "    <tr>\n",
              "      <th>4</th>\n",
              "      <td>7.4</td>\n",
              "      <td>9.4</td>\n",
              "      <td>5</td>\n",
              "    </tr>\n",
              "    <tr>\n",
              "      <th>5</th>\n",
              "      <td>7.4</td>\n",
              "      <td>9.4</td>\n",
              "      <td>5</td>\n",
              "    </tr>\n",
              "    <tr>\n",
              "      <th>6</th>\n",
              "      <td>7.9</td>\n",
              "      <td>9.4</td>\n",
              "      <td>5</td>\n",
              "    </tr>\n",
              "    <tr>\n",
              "      <th>7</th>\n",
              "      <td>7.3</td>\n",
              "      <td>10.0</td>\n",
              "      <td>7</td>\n",
              "    </tr>\n",
              "    <tr>\n",
              "      <th>8</th>\n",
              "      <td>7.8</td>\n",
              "      <td>9.5</td>\n",
              "      <td>7</td>\n",
              "    </tr>\n",
              "    <tr>\n",
              "      <th>9</th>\n",
              "      <td>7.5</td>\n",
              "      <td>10.5</td>\n",
              "      <td>5</td>\n",
              "    </tr>\n",
              "    <tr>\n",
              "      <th>10</th>\n",
              "      <td>6.7</td>\n",
              "      <td>9.2</td>\n",
              "      <td>5</td>\n",
              "    </tr>\n",
              "    <tr>\n",
              "      <th>11</th>\n",
              "      <td>7.5</td>\n",
              "      <td>10.5</td>\n",
              "      <td>5</td>\n",
              "    </tr>\n",
              "    <tr>\n",
              "      <th>12</th>\n",
              "      <td>5.6</td>\n",
              "      <td>9.9</td>\n",
              "      <td>5</td>\n",
              "    </tr>\n",
              "    <tr>\n",
              "      <th>13</th>\n",
              "      <td>7.8</td>\n",
              "      <td>9.1</td>\n",
              "      <td>5</td>\n",
              "    </tr>\n",
              "    <tr>\n",
              "      <th>14</th>\n",
              "      <td>8.9</td>\n",
              "      <td>9.2</td>\n",
              "      <td>5</td>\n",
              "    </tr>\n",
              "    <tr>\n",
              "      <th>15</th>\n",
              "      <td>8.9</td>\n",
              "      <td>9.2</td>\n",
              "      <td>5</td>\n",
              "    </tr>\n",
              "    <tr>\n",
              "      <th>16</th>\n",
              "      <td>8.5</td>\n",
              "      <td>10.5</td>\n",
              "      <td>7</td>\n",
              "    </tr>\n",
              "    <tr>\n",
              "      <th>17</th>\n",
              "      <td>8.1</td>\n",
              "      <td>9.3</td>\n",
              "      <td>5</td>\n",
              "    </tr>\n",
              "    <tr>\n",
              "      <th>18</th>\n",
              "      <td>7.4</td>\n",
              "      <td>9.0</td>\n",
              "      <td>4</td>\n",
              "    </tr>\n",
              "    <tr>\n",
              "      <th>19</th>\n",
              "      <td>7.9</td>\n",
              "      <td>9.2</td>\n",
              "      <td>6</td>\n",
              "    </tr>\n",
              "    <tr>\n",
              "      <th>20</th>\n",
              "      <td>8.9</td>\n",
              "      <td>9.4</td>\n",
              "      <td>6</td>\n",
              "    </tr>\n",
              "    <tr>\n",
              "      <th>21</th>\n",
              "      <td>7.6</td>\n",
              "      <td>9.7</td>\n",
              "      <td>5</td>\n",
              "    </tr>\n",
              "    <tr>\n",
              "      <th>22</th>\n",
              "      <td>7.9</td>\n",
              "      <td>9.5</td>\n",
              "      <td>5</td>\n",
              "    </tr>\n",
              "    <tr>\n",
              "      <th>23</th>\n",
              "      <td>8.5</td>\n",
              "      <td>9.4</td>\n",
              "      <td>5</td>\n",
              "    </tr>\n",
              "    <tr>\n",
              "      <th>24</th>\n",
              "      <td>6.9</td>\n",
              "      <td>9.7</td>\n",
              "      <td>6</td>\n",
              "    </tr>\n",
              "  </tbody>\n",
              "</table>\n",
              "</div>\n",
              "      <button class=\"colab-df-convert\" onclick=\"convertToInteractive('df-9592906b-1199-4f21-a783-f683c4170a09')\"\n",
              "              title=\"Convert this dataframe to an interactive table.\"\n",
              "              style=\"display:none;\">\n",
              "        \n",
              "  <svg xmlns=\"http://www.w3.org/2000/svg\" height=\"24px\"viewBox=\"0 0 24 24\"\n",
              "       width=\"24px\">\n",
              "    <path d=\"M0 0h24v24H0V0z\" fill=\"none\"/>\n",
              "    <path d=\"M18.56 5.44l.94 2.06.94-2.06 2.06-.94-2.06-.94-.94-2.06-.94 2.06-2.06.94zm-11 1L8.5 8.5l.94-2.06 2.06-.94-2.06-.94L8.5 2.5l-.94 2.06-2.06.94zm10 10l.94 2.06.94-2.06 2.06-.94-2.06-.94-.94-2.06-.94 2.06-2.06.94z\"/><path d=\"M17.41 7.96l-1.37-1.37c-.4-.4-.92-.59-1.43-.59-.52 0-1.04.2-1.43.59L10.3 9.45l-7.72 7.72c-.78.78-.78 2.05 0 2.83L4 21.41c.39.39.9.59 1.41.59.51 0 1.02-.2 1.41-.59l7.78-7.78 2.81-2.81c.8-.78.8-2.07 0-2.86zM5.41 20L4 18.59l7.72-7.72 1.47 1.35L5.41 20z\"/>\n",
              "  </svg>\n",
              "      </button>\n",
              "      \n",
              "  <style>\n",
              "    .colab-df-container {\n",
              "      display:flex;\n",
              "      flex-wrap:wrap;\n",
              "      gap: 12px;\n",
              "    }\n",
              "\n",
              "    .colab-df-convert {\n",
              "      background-color: #E8F0FE;\n",
              "      border: none;\n",
              "      border-radius: 50%;\n",
              "      cursor: pointer;\n",
              "      display: none;\n",
              "      fill: #1967D2;\n",
              "      height: 32px;\n",
              "      padding: 0 0 0 0;\n",
              "      width: 32px;\n",
              "    }\n",
              "\n",
              "    .colab-df-convert:hover {\n",
              "      background-color: #E2EBFA;\n",
              "      box-shadow: 0px 1px 2px rgba(60, 64, 67, 0.3), 0px 1px 3px 1px rgba(60, 64, 67, 0.15);\n",
              "      fill: #174EA6;\n",
              "    }\n",
              "\n",
              "    [theme=dark] .colab-df-convert {\n",
              "      background-color: #3B4455;\n",
              "      fill: #D2E3FC;\n",
              "    }\n",
              "\n",
              "    [theme=dark] .colab-df-convert:hover {\n",
              "      background-color: #434B5C;\n",
              "      box-shadow: 0px 1px 3px 1px rgba(0, 0, 0, 0.15);\n",
              "      filter: drop-shadow(0px 1px 2px rgba(0, 0, 0, 0.3));\n",
              "      fill: #FFFFFF;\n",
              "    }\n",
              "  </style>\n",
              "\n",
              "      <script>\n",
              "        const buttonEl =\n",
              "          document.querySelector('#df-9592906b-1199-4f21-a783-f683c4170a09 button.colab-df-convert');\n",
              "        buttonEl.style.display =\n",
              "          google.colab.kernel.accessAllowed ? 'block' : 'none';\n",
              "\n",
              "        async function convertToInteractive(key) {\n",
              "          const element = document.querySelector('#df-9592906b-1199-4f21-a783-f683c4170a09');\n",
              "          const dataTable =\n",
              "            await google.colab.kernel.invokeFunction('convertToInteractive',\n",
              "                                                     [key], {});\n",
              "          if (!dataTable) return;\n",
              "\n",
              "          const docLinkHtml = 'Like what you see? Visit the ' +\n",
              "            '<a target=\"_blank\" href=https://colab.research.google.com/notebooks/data_table.ipynb>data table notebook</a>'\n",
              "            + ' to learn more about interactive tables.';\n",
              "          element.innerHTML = '';\n",
              "          dataTable['output_type'] = 'display_data';\n",
              "          await google.colab.output.renderOutput(dataTable, element);\n",
              "          const docLink = document.createElement('div');\n",
              "          docLink.innerHTML = docLinkHtml;\n",
              "          element.appendChild(docLink);\n",
              "        }\n",
              "      </script>\n",
              "    </div>\n",
              "  </div>\n",
              "  "
            ]
          },
          "metadata": {},
          "execution_count": 120
        }
      ]
    },
    {
      "cell_type": "markdown",
      "source": [
        "Визуализируем данные на графике. Каждая точка показывает, к какому классу она принадлежит.\n",
        "\n",
        "4- вино плохое\n",
        "\n",
        "5-6 - среднее\n",
        "\n",
        "7 - отличное"
      ],
      "metadata": {
        "id": "NJ34_WR-2klL"
      }
    },
    {
      "cell_type": "code",
      "source": [
        "x = wine_data['fixed acidity']\n",
        "y = wine_data['alcohol']\n",
        "qual = wine_data['quality']**2.5\n",
        "plt.scatter(x, y, s = qual, c = 'red')\n",
        "plt.xlabel('Фиксированная кислотность, pH')\n",
        "plt.ylabel('Крепость, %')\n",
        "# wine_data.plot(x = 'pH', y = 'alcohol', kind = 'scatter')\n",
        "ax = plt.gca()\n",
        "wine_data.apply(lambda x: ax.annotate(x['quality'], (x['fixed acidity'], x['alcohol'])), axis=1)"
      ],
      "metadata": {
        "colab": {
          "base_uri": "https://localhost:8080/",
          "height": 730
        },
        "id": "VNkfxZwstlxV",
        "outputId": "b59017b3-52af-47dd-9b6e-696cf4e8460e"
      },
      "execution_count": 114,
      "outputs": [
        {
          "output_type": "execute_result",
          "data": {
            "text/plain": [
              "0      Annotation(7.4, 9.4, '5.0')\n",
              "1      Annotation(7.8, 9.8, '5.0')\n",
              "2      Annotation(7.8, 9.8, '5.0')\n",
              "3     Annotation(11.2, 9.8, '6.0')\n",
              "4      Annotation(7.4, 9.4, '5.0')\n",
              "5      Annotation(7.4, 9.4, '5.0')\n",
              "6      Annotation(7.9, 9.4, '5.0')\n",
              "7       Annotation(7.3, 10, '7.0')\n",
              "8      Annotation(7.8, 9.5, '7.0')\n",
              "9     Annotation(7.5, 10.5, '5.0')\n",
              "10     Annotation(6.7, 9.2, '5.0')\n",
              "11    Annotation(7.5, 10.5, '5.0')\n",
              "12     Annotation(5.6, 9.9, '5.0')\n",
              "13     Annotation(7.8, 9.1, '5.0')\n",
              "14     Annotation(8.9, 9.2, '5.0')\n",
              "15     Annotation(8.9, 9.2, '5.0')\n",
              "16    Annotation(8.5, 10.5, '7.0')\n",
              "17     Annotation(8.1, 9.3, '5.0')\n",
              "18       Annotation(7.4, 9, '4.0')\n",
              "19     Annotation(7.9, 9.2, '6.0')\n",
              "20     Annotation(8.9, 9.4, '6.0')\n",
              "21     Annotation(7.6, 9.7, '5.0')\n",
              "22     Annotation(7.9, 9.5, '5.0')\n",
              "23     Annotation(8.5, 9.4, '5.0')\n",
              "24     Annotation(6.9, 9.7, '6.0')\n",
              "dtype: object"
            ]
          },
          "metadata": {},
          "execution_count": 114
        },
        {
          "output_type": "display_data",
          "data": {
            "text/plain": [
              "<Figure size 432x288 with 1 Axes>"
            ],
            "image/png": "[encoded data removed]"
          },
          "metadata": {
            "needs_background": "light"
          }
        }
      ]
    },
    {
      "cell_type": "markdown",
      "source": [
        "Обозначаем предикторы и отклики.\n",
        "\n",
        "Предикторы - фиксированная кислотность и крепость вина\n",
        "\n",
        "Отклики - качество вина"
      ],
      "metadata": {
        "id": "1gkogSUmTpJd"
      }
    },
    {
      "cell_type": "code",
      "source": [
        "xw = pd.DataFrame(wine_data.drop(['quality'], axis = 1)) #Предикторы\n",
        "yw = pd.DataFrame(wine_data['quality']).values.ravel() #Отклики"
      ],
      "metadata": {
        "id": "iDoibJgKt0Il"
      },
      "execution_count": 105,
      "outputs": []
    },
    {
      "cell_type": "markdown",
      "source": [
        "Используем метод из импортированной библиотеки sklearn.neighbors.\n",
        "\n",
        "\n",
        "*   **n_neighbors** = число соседей\n",
        "*   **p** = исп. расстояние (1 - Манхэттенское расстояние, 2 - Евклидово, 3 и более - Чебышёва)\n",
        "\n"
      ],
      "metadata": {
        "id": "b18dQrLgnlqi"
      }
    },
    {
      "cell_type": "code",
      "source": [
        "neigh = KNeighborsClassifier(n_neighbors = 3, p = 2)\n",
        "neigh.fit(xw, yw)"
      ],
      "metadata": {
        "colab": {
          "base_uri": "https://localhost:8080/"
        },
        "id": "BaK76dAouZ3x",
        "outputId": "25ce5e6d-1f22-440d-d481-a8d4954b9288"
      },
      "execution_count": 106,
      "outputs": [
        {
          "output_type": "execute_result",
          "data": {
            "text/plain": [
              "KNeighborsClassifier(n_neighbors=3)"
            ]
          },
          "metadata": {},
          "execution_count": 106
        }
      ]
    },
    {
      "cell_type": "markdown",
      "source": [
        "Тестовые данные. Новый объект, который нужно классифицировать и его классификация"
      ],
      "metadata": {
        "id": "ch1RHo5unOwA"
      }
    },
    {
      "cell_type": "code",
      "source": [
        "new_obj = [7, 9.5]\n",
        "neigh.predict([new_obj])"
      ],
      "metadata": {
        "colab": {
          "base_uri": "https://localhost:8080/"
        },
        "id": "HRDkuvs8ulPb",
        "outputId": "ab87f8d5-8583-4c56-dce2-bcaca9bf6825"
      },
      "execution_count": 116,
      "outputs": [
        {
          "output_type": "stream",
          "name": "stderr",
          "text": [
            "/usr/local/lib/python3.7/dist-packages/sklearn/base.py:451: UserWarning: X does not have valid feature names, but KNeighborsClassifier was fitted with feature names\n",
            "  \"X does not have valid feature names, but\"\n"
          ]
        },
        {
          "output_type": "execute_result",
          "data": {
            "text/plain": [
              "array([5])"
            ]
          },
          "metadata": {},
          "execution_count": 116
        }
      ]
    },
    {
      "cell_type": "markdown",
      "source": [
        "Вероятности отнесения к классам 4, 5, 6 и 7:\n",
        "\n",
        "\n"
      ],
      "metadata": {
        "id": "3zhl15JCmhWN"
      }
    },
    {
      "cell_type": "code",
      "source": [
        "neigh.predict_proba([new_obj])"
      ],
      "metadata": {
        "colab": {
          "base_uri": "https://localhost:8080/"
        },
        "id": "gSd15rScNLXW",
        "outputId": "81f70d98-e5cc-43e9-c10a-7015eb636b71"
      },
      "execution_count": 117,
      "outputs": [
        {
          "output_type": "stream",
          "name": "stderr",
          "text": [
            "/usr/local/lib/python3.7/dist-packages/sklearn/base.py:451: UserWarning: X does not have valid feature names, but KNeighborsClassifier was fitted with feature names\n",
            "  \"X does not have valid feature names, but\"\n"
          ]
        },
        {
          "output_type": "execute_result",
          "data": {
            "text/plain": [
              "array([[0.        , 0.66666667, 0.33333333, 0.        ]])"
            ]
          },
          "metadata": {},
          "execution_count": 117
        }
      ]
    },
    {
      "cell_type": "markdown",
      "source": [
        "Выведим расстояние до k соседей в порядке уменьшения (первый массив - расстояния, второй - ид. объектов)\n",
        "Данный метод возвращает индексы ближайших соседей с НУЛЯ, что не соответствует индексации в таблице (Мы получили индексы [3, 15, 14] в таблице соотв. -> [4, 16, 15])"
      ],
      "metadata": {
        "id": "2BIg0GzSocyu"
      }
    },
    {
      "cell_type": "code",
      "source": [
        "neigh.kneighbors([new_obj])"
      ],
      "metadata": {
        "colab": {
          "base_uri": "https://localhost:8080/"
        },
        "id": "ssxM8bqQNdmQ",
        "outputId": "ec394aa6-d40c-4c04-e6b2-330e73040267"
      },
      "execution_count": 111,
      "outputs": [
        {
          "output_type": "stream",
          "name": "stderr",
          "text": [
            "/usr/local/lib/python3.7/dist-packages/sklearn/base.py:451: UserWarning: X does not have valid feature names, but KNeighborsClassifier was fitted with feature names\n",
            "  \"X does not have valid feature names, but\"\n"
          ]
        },
        {
          "output_type": "execute_result",
          "data": {
            "text/plain": [
              "(array([[7.03420216, 9.17877988, 9.17877988]]), array([[ 3, 15, 14]]))"
            ]
          },
          "metadata": {},
          "execution_count": 111
        }
      ]
    }
  ]
}